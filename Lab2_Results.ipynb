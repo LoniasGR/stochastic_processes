{
 "cells": [
  {
   "cell_type": "markdown",
   "metadata": {},
   "source": [
    "# Leonidas Avdelas, 03113182 #\n",
    "## Lab 2, Stochastic Processes ##"
   ]
  },
  {
   "cell_type": "markdown",
   "metadata": {},
   "source": [
    "## Μέρος 1 ##\n"
   ]
  },
  {
   "cell_type": "code",
   "execution_count": 1,
   "metadata": {},
   "outputs": [],
   "source": [
    "import statistics as stat \n",
    "## import the library statistics. We will use it to compute the mean and variance of our list\n",
    "import numpy as np\n",
    "from numpy.linalg import matrix_power\n",
    "from simple_markov_chain_lib import markov_chain"
   ]
  },
  {
   "cell_type": "code",
   "execution_count": 2,
   "metadata": {},
   "outputs": [],
   "source": [
    "p = 1/6\n",
    "\n",
    "# A dictionary for the initial distibution. \n",
    "# We prescribe the initial distribution\n",
    "init_probs = {1: 1.0} \n",
    " \n",
    "# A dictionary for the transition probability  matrix. \n",
    "# Every state-key corresponds to a list with tuples of (Next_State,Probability) \n",
    "markov_table = {\n",
    "    1: {2: 1/2, 3:1/2},\n",
    "    2: {1: 1/3, 2: 1/3, 3: 1/3},\n",
    "    3: {1: p, 2: 2/3-p, 3: 1/3}\n",
    "}\n",
    " \n",
    "# Ok... we are ready know\n",
    "# Let's construct a Markov Chain. So let's call the constructor\n",
    "mc = markov_chain(markov_table, init_probs)"
   ]
  },
  {
   "cell_type": "code",
   "execution_count": 3,
   "metadata": {},
   "outputs": [],
   "source": [
    "def run_expirament(N, steps):\n",
    "    ## Experiment parameters\n",
    "    #N = 200     # number of samples\n",
    "    #steps = 20   # the target time\n",
    "    counter = 0  # to count the number of times the event {X_40  = 0} occurs\n",
    "\n",
    "    ## Simulation\n",
    "    for i in range(N):\n",
    "        mc.start()  # new experiment\n",
    "        for j in range(steps):  mc.move()\n",
    "        if mc.running_state == 1:  counter += 1\n",
    "\n",
    "    phat = counter / N\n",
    "\n",
    "    return phat"
   ]
  },
  {
   "cell_type": "code",
   "execution_count": 4,
   "metadata": {},
   "outputs": [
    {
     "name": "stdout",
     "output_type": "stream",
     "text": [
      "For 200 samples:\n",
      " \n",
      "    The sample mean is 0.20770 and the sample variance is 0.00095\n",
      "    \n"
     ]
    }
   ],
   "source": [
    "results = []\n",
    "for i in range(50):\n",
    "    results.append(run_expirament(200, 20))\n",
    "print('For 200 samples:')\n",
    "print(\n",
    "    \"\"\" \n",
    "    The sample mean is {0:.5f} and the sample variance is {1:.5f}\n",
    "    \"\"\".format(stat.mean(results), stat.variance(results))\n",
    ")"
   ]
  },
  {
   "cell_type": "code",
   "execution_count": 5,
   "metadata": {},
   "outputs": [
    {
     "name": "stdout",
     "output_type": "stream",
     "text": [
      "For 20k samples:\n",
      " \n",
      "    The sample mean is 0.20358 and the sample variance is 0.00001\n",
      "    \n"
     ]
    }
   ],
   "source": [
    "results = []\n",
    "for i in range(50):\n",
    "    results.append(run_expirament(20000, 20))\n",
    "print('For 20k samples:')\n",
    "print(\n",
    "    \"\"\" \n",
    "    The sample mean is {0:.5f} and the sample variance is {1:.5f}\n",
    "    \"\"\".format(stat.mean(results), stat.variance(results))\n",
    ")"
   ]
  },
  {
   "cell_type": "code",
   "execution_count": 6,
   "metadata": {},
   "outputs": [
    {
     "name": "stdout",
     "output_type": "stream",
     "text": [
      "For 20k samples:\n",
      " \n",
      "    The sample mean is 0.20405 and the sample variance is 0.00001\n",
      "    \n"
     ]
    }
   ],
   "source": [
    "init_probs = {3: 1.0}\n",
    "\n",
    "mc = markov_chain(markov_table, init_probs)\n",
    "\n",
    "results = []\n",
    "for i in range(50):\n",
    "    results.append(run_expirament(20000, 20))\n",
    "print('For 20k samples:')\n",
    "print(\n",
    "    \"\"\" \n",
    "    The sample mean is {0:.5f} and the sample variance is {1:.5f}\n",
    "    \"\"\".format(stat.mean(results), stat.variance(results))\n",
    ")"
   ]
  },
  {
   "cell_type": "markdown",
   "metadata": {},
   "source": [
    "# Παραδοτέο 1 #\n",
    "1. Όπως βλέπουμε και παραπάνω, ο μέσος όρος όταν $N = 200$ είναι $0.213$, ενώ όταν $N = 20000$ είναι $0.203$.\n",
    "2. Η θεωρητική τιμή που υπολογίζουμε είναι:\n",
    "$$ π_{20} = π_0 P^{20} = (1, 0, 0)P^{20} $$\n",
    "\n",
    "Κάνοντας τις πράξεις έχουμε ότι $π_{20} = (0.204, 0.428, 0.367)$. Αρα $π_{20}(1) = 0.204$, τιμή πολύ κοντά σε αυτή που φτάσαμε με την μέθοδο Monte Carlo.\n",
    "3. H δειγματική διασπορά είναι $0.00083$ όταν $N = 200$, ενώ όταν $N = 20000$ είναι $0.00001$.\n",
    "4. H εκτίμηση μας δεν αλλάζει, όπως βλέπουμε και από το ακριβώς παραπάνω κελί."
   ]
  },
  {
   "cell_type": "markdown",
   "metadata": {},
   "source": [
    "## Μέρος 2 ##"
   ]
  },
  {
   "cell_type": "code",
   "execution_count": 7,
   "metadata": {},
   "outputs": [],
   "source": [
    "p_a = 0.6\n",
    "p_b = 1 - p_a\n",
    "init_probs_2  = {'0-0':1}\n",
    "\n",
    "P_table = {\n",
    "    '0-0': {'15-0':p_a, '0-15':p_b},\n",
    "    '15-0': {'30-0':p_a, '15-15':p_b},\n",
    "    '0-15': {'15-15': p_a, '0-30':p_b},\n",
    "    '30-0': {'40-0': p_a, '30-15': p_b},\n",
    "    '15-15': {'30-15': p_a, '15-30': p_b},\n",
    "    '0-30': {'15-30': p_a, '0-40': p_b},\n",
    "    '40-0': {'GameA': p_a, '40-15': p_b},\n",
    "    '30-15': {'40-15': p_a, 'Deuce': p_b},\n",
    "    '15-30': {'Deuce': p_a, '15-40': p_b},\n",
    "    '0-40': {'15-40': p_a, 'GameB': p_b},\n",
    "    '40-15': {'GameA': p_a, 'AdvA': p_b},\n",
    "    '15-40': {'AdvB': p_a, 'GameB': p_b},\n",
    "    'Deuce': {'AdvA': p_a, 'AdvB': p_b},\n",
    "    'GameA': {'GameA': 1},\n",
    "    'AdvA': {'GameA': p_a, 'Deuce': p_b},\n",
    "    'AdvB': {'Deuce': p_a, 'GameB': p_b},\n",
    "    'GameB': {'GameB': 1}\n",
    "}\n",
    "\n",
    "mc2 = markov_chain(P_table, init_probs_2)"
   ]
  },
  {
   "cell_type": "code",
   "execution_count": 8,
   "metadata": {},
   "outputs": [
    {
     "name": "stdout",
     "output_type": "stream",
     "text": [
      "\n",
      "    We executed 10000 times the first 25 steps of the markov chain\n",
      "    and we captured the running state in state GameA 7297 times.\n",
      "    So we estimate the Pr[X_GameA = 1] to be 0.7297\n",
      "    \n"
     ]
    }
   ],
   "source": [
    "## Experiment parameters\n",
    "N = 10000     # number of samples\n",
    "steps = 25    # the target time\n",
    "counter = 0  # to count the number of times the event {X_40  = 0} occurs\n",
    "\n",
    "## Simulation\n",
    "for i in range(N):\n",
    "    mc2.start()  # new experiment\n",
    "    for j in range(steps):  mc2.move()\n",
    "    if mc2.running_state == 'GameA':  counter += 1\n",
    "\n",
    "phat = counter / N\n",
    "\n",
    "print(\n",
    "    \"\"\"\n",
    "    We executed {0} times the first {1} steps of the markov chain\n",
    "    and we captured the running state in state GameA {2} times.\n",
    "    So we estimate the Pr[X_GameA = 1] to be {3}\n",
    "    \"\"\".format(N, steps, counter, phat)\n",
    ")\n"
   ]
  },
  {
   "cell_type": "code",
   "execution_count": 9,
   "metadata": {},
   "outputs": [
    {
     "name": "stdout",
     "output_type": "stream",
     "text": [
      "End of Lab 2\n"
     ]
    }
   ],
   "source": [
    "print('End of Lab 2')"
   ]
  },
  {
   "cell_type": "code",
   "execution_count": null,
   "metadata": {},
   "outputs": [],
   "source": []
  }
 ],
 "metadata": {
  "kernelspec": {
   "display_name": "Python 3",
   "language": "python",
   "name": "python3"
  },
  "language_info": {
   "codemirror_mode": {
    "name": "ipython",
    "version": 3
   },
   "file_extension": ".py",
   "mimetype": "text/x-python",
   "name": "python",
   "nbconvert_exporter": "python",
   "pygments_lexer": "ipython3",
   "version": "3.7.1"
  }
 },
 "nbformat": 4,
 "nbformat_minor": 2
}
