{
 "cells": [
  {
   "cell_type": "markdown",
   "metadata": {},
   "source": [
    "<h1 style='text-align:center;'> Simple Markov Chain</h1>\n",
    "<h2 style='text-align:center;'>  Exercise 5 of the Book</h2> \n",
    "<h3 style='text-align:center;'>  Leonidas Avdelas, 03113182</h3>"
   ]
  },
  {
   "cell_type": "code",
   "execution_count": 1,
   "metadata": {},
   "outputs": [],
   "source": [
    "from simple_markov_chain_lib import markov_chain  # import markov chain simulator"
   ]
  },
  {
   "cell_type": "code",
   "execution_count": 2,
   "metadata": {},
   "outputs": [
    {
     "name": "stdout",
     "output_type": "stream",
     "text": [
      "At time 0 the bug is in room M\n",
      "At time 1 the chain is in state S\n",
      "At time 2 the chain is in state M\n",
      "At time 3 the chain is in state S\n",
      "At time 4 the chain is in state M\n",
      "At time 5 the chain is in state S\n",
      "At time 6 the chain is in state Y\n",
      "At time 7 the chain is in state S\n",
      "At time 8 the chain is in state B\n",
      "At time 9 the chain is in state K\n",
      "At time 10 the chain is in state S\n",
      "At time 11 the chain is in state B\n",
      "At time 12 the chain is in state S\n",
      "At time 13 the chain is in state B\n",
      "At time 14 the chain is in state K\n",
      "At time 15 the chain is in state S\n",
      "At time 16 the chain is in state K\n",
      "At time 17 the chain is in state S\n",
      "At time 18 the chain is in state Y\n",
      "At time 19 the chain is in state S\n",
      "At time 20 the chain is in state Y\n"
     ]
    }
   ],
   "source": [
    "# Transition Table\n",
    "markov_table = {\n",
    "    'B': {'K': .5, 'S': .5},\n",
    "    'K': {'B': .5, 'S': 0.5},\n",
    "    'S': {'B': .25, 'K': 0.25, 'Y':0.25, 'M':0.25},\n",
    "    'Y': {'S': 1},\n",
    "    'M': {'S': 1}\n",
    "}\n",
    "\n",
    "# Initial Distribution\n",
    "init_dist = {'M': 1.}  # we start from state 0 with probability 1\n",
    "\n",
    "mc = markov_chain(markov_table, init_dist)\n",
    "\n",
    "mc.start()\n",
    "print(\"At time {} the bug is in room {}\".format(mc.steps, mc.running_state))\n",
    "for i in range(20):\n",
    "    mc.move()\n",
    "    print(\"At time {} the chain is in state {}\".format(mc.steps, mc.running_state))"
   ]
  },
  {
   "cell_type": "code",
   "execution_count": 3,
   "metadata": {},
   "outputs": [
    {
     "name": "stdout",
     "output_type": "stream",
     "text": [
      "End of Lab 1\n"
     ]
    }
   ],
   "source": [
    "print(\"End of Lab 1\")"
   ]
  }
 ],
 "metadata": {
  "kernelspec": {
   "display_name": "Python 3",
   "language": "python",
   "name": "python3"
  },
  "language_info": {
   "codemirror_mode": {
    "name": "ipython",
    "version": 3
   },
   "file_extension": ".py",
   "mimetype": "text/x-python",
   "name": "python",
   "nbconvert_exporter": "python",
   "pygments_lexer": "ipython3",
   "version": "3.7.4"
  }
 },
 "nbformat": 4,
 "nbformat_minor": 4
}
